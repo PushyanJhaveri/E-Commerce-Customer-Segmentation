{
 "cells": [
  {
   "cell_type": "markdown",
   "id": "ba0e6074",
   "metadata": {},
   "source": [
    "# ML Capstone 1 - Part 1 E-Commerce Customer Segmentation"
   ]
  },
  {
   "cell_type": "markdown",
   "id": "55670281",
   "metadata": {},
   "source": [
    "### Dataset: Download CSV file from [here](https://drive.google.com/file/d/1Kyi1Akx299BFhdo77T2MmWg7fLRtMaXm/view?usp=sharing)\n",
    " \n",
    "### Context & Problem statement:\n",
    "\n",
    "In this project, we delve deep into the thriving sector of online retail by analyzing a transactional dataset from a UK-based retailer, available at the UCI Machine Learning Repository. This dataset documents all transactions between 2010 and 2011. Our primary objective is to amplify the efficiency of marketing strategies and boost sales through customer segmentation. We aim to transform the transactional data into a customer-centric dataset by creating new features that will facilitate the segmentation of customers into distinct groups using the K-means clustering algorithm. This segmentation will allow us to understand the distinct profiles and preferences of different customer groups. Building upon this, we intend to develop a recommendation system that will suggest top-selling products to customers within each segment who haven't purchased those items yet, ultimately enhancing marketing efficacy and fostering increased sales.\n",
    "\n",
    "### Objectives\n",
    "\n",
    "- Data Cleaning & Transformation: Clean the dataset by handling missing values, duplicates, and outliers, preparing it for effective clustering.\n",
    "- Feature Engineering: Develop new features based on the transactional data to create a customer-centric dataset, setting the foundation for customer segmentation.\n",
    "- Data Preprocessing: Undertake feature scaling and dimensionality reduction to streamline the data, enhancing the efficiency of the clustering process.\n",
    "- Customer Segmentation using K-Means Clustering: Segment customers into distinct groups using K-means, facilitating targeted marketing and personalized strategies.\n",
    "- Cluster Analysis & Evaluation: Analyze and profile each cluster to develop targeted marketing strategies and assess the quality of the clusters formed.\n",
    "- Recommendation System: Implement a system to recommend best-selling products to customers within the same cluster who haven't purchased those products, aiming to boost sales and marketing effectiveness."
   ]
  },
  {
   "cell_type": "markdown",
   "id": "42b15f8e",
   "metadata": {},
   "source": [
    "## TODO: Please make use of Python, Pandas, Numpy, Matplotlib and relevant libraries to do the following:\n",
    "\n",
    "### Data Retrieval (1 pt)\n",
    "- Extracting the dataset from the source (e.g., CSV file)\n",
    "- Exploring the dataset structure, features\n",
    "- Understanding the context and significance of each feature\n",
    "\n",
    "### Data preprocessing (2 pts)\n",
    "- Cleaning the dataset to handle missing values, duplicates, and outliers\n",
    "- Encoding categorical variables and transforming data types as necessary\n",
    "\n",
    "### Feature Engineering & EDA (3 pts)\n",
    "- Feature engineering to create new variables(eg Date_since_last_purchase) and do Exploratory Data Analysis (EDA)\n",
    "- Identifying correlations and patterns in the data\n",
    "- Make use of 1-d and 2-d explorations to know your data better.\n",
    "\n",
    "### Effective Communication (2 pts)\n",
    "- Please make use of markdown cells to communicate your thought process, why did you think of performing a step? what was the observation from the visualization? etc. \n",
    "- Make sure the plots are correctly labelled. \n",
    "- The code should be commented so that it is readable for the reviewer."
   ]
  },
  {
   "cell_type": "markdown",
   "id": "2a6546ac",
   "metadata": {},
   "source": [
    "### Grading and Important Instructions\n",
    "- Each of the above steps are mandatory and should be completed in good faith\n",
    "- Make sure before submitting that the code is in fully working condition\n",
    "- It is fine to make use of ChatGPT, stackoverflow type resources, just provide the reference links from where you got it\n",
    "- Debugging is an art, if you find yourself stuck with errors, take help of stackoverflow and ChatGPT to resolve the issue and if it's still unresolved, reach out to me for help.\n",
    "- You need to score atleast 7/10 to pass the project, anything less than that will be marked required, needing resubmission.\n",
    "- Feedback will be provided on 3 levels (Awesome, Suggestion, & Required). Required changes are mandatory to be made."
   ]
  },
  {
   "cell_type": "markdown",
   "id": "bf95784c",
   "metadata": {},
   "source": [
    "#### Write your code below and do not delete the above instructions"
   ]
  },
  {
   "cell_type": "markdown",
   "id": "5a94c14a",
   "metadata": {},
   "source": [
    "DATA RETRIEVAL"
   ]
  },
  {
   "cell_type": "code",
   "execution_count": 2,
   "id": "b59295ae",
   "metadata": {},
   "outputs": [],
   "source": [
    "#Loading the required libraries\n",
    "import pandas as pd\n",
    "import numpy as np\n",
    "import matplotlib.pyplot as plt"
   ]
  },
  {
   "cell_type": "code",
   "execution_count": 3,
   "id": "eeb68ee1",
   "metadata": {},
   "outputs": [
    {
     "name": "stdout",
     "output_type": "stream",
     "text": [
      "Dataset Head:\n",
      "   InvoiceNo StockCode                          Description  Quantity  \\\n",
      "0    536365    85123A   WHITE HANGING HEART T-LIGHT HOLDER         6   \n",
      "1    536365     71053                  WHITE METAL LANTERN         6   \n",
      "2    536365    84406B       CREAM CUPID HEARTS COAT HANGER         8   \n",
      "3    536365    84029G  KNITTED UNION FLAG HOT WATER BOTTLE         6   \n",
      "4    536365    84029E       RED WOOLLY HOTTIE WHITE HEART.         6   \n",
      "\n",
      "      InvoiceDate  UnitPrice  CustomerID         Country  \n",
      "0  12/1/2010 8:26       2.55     17850.0  United Kingdom  \n",
      "1  12/1/2010 8:26       3.39     17850.0  United Kingdom  \n",
      "2  12/1/2010 8:26       2.75     17850.0  United Kingdom  \n",
      "3  12/1/2010 8:26       3.39     17850.0  United Kingdom  \n",
      "4  12/1/2010 8:26       3.39     17850.0  United Kingdom  \n",
      "<class 'pandas.core.frame.DataFrame'>\n",
      "RangeIndex: 541909 entries, 0 to 541908\n",
      "Data columns (total 8 columns):\n",
      " #   Column       Non-Null Count   Dtype  \n",
      "---  ------       --------------   -----  \n",
      " 0   InvoiceNo    541909 non-null  object \n",
      " 1   StockCode    541909 non-null  object \n",
      " 2   Description  540455 non-null  object \n",
      " 3   Quantity     541909 non-null  int64  \n",
      " 4   InvoiceDate  541909 non-null  object \n",
      " 5   UnitPrice    541909 non-null  float64\n",
      " 6   CustomerID   406829 non-null  float64\n",
      " 7   Country      541909 non-null  object \n",
      "dtypes: float64(2), int64(1), object(5)\n",
      "memory usage: 33.1+ MB\n",
      "\n",
      "Dataset Info:\n",
      " None\n",
      "\n",
      "Summary Statistics:\n",
      "             Quantity      UnitPrice     CustomerID\n",
      "count  541909.000000  541909.000000  406829.000000\n",
      "mean        9.552250       4.611114   15287.690570\n",
      "std       218.081158      96.759853    1713.600303\n",
      "min    -80995.000000  -11062.060000   12346.000000\n",
      "25%         1.000000       1.250000   13953.000000\n",
      "50%         3.000000       2.080000   15152.000000\n",
      "75%        10.000000       4.130000   16791.000000\n",
      "max     80995.000000   38970.000000   18287.000000\n",
      "\n",
      "Missing Values per Column:\n",
      " InvoiceNo           0\n",
      "StockCode           0\n",
      "Description      1454\n",
      "Quantity            0\n",
      "InvoiceDate         0\n",
      "UnitPrice           0\n",
      "CustomerID     135080\n",
      "Country             0\n",
      "dtype: int64\n",
      "\n",
      "Duplicate Rows: 5268\n"
     ]
    }
   ],
   "source": [
    "# Load the dataset\n",
    "data = pd.read_csv(\"ecommerce_data.csv\", encoding='ISO-8859-1')\n",
    "\n",
    "# Explore the dataset structure\n",
    "\n",
    "def explore_data(data):\n",
    "    print(\"Dataset Head:\\n\", data.head())\n",
    "    \n",
    "    print(\"\\nDataset Info:\\n\",  data.info())\n",
    "   \n",
    "    print(\"\\nSummary Statistics:\\n\", data.describe())\n",
    "    \n",
    "    print(\"\\nMissing Values per Column:\\n\", data.isnull().sum())\n",
    "  \n",
    "    print(\"\\nDuplicate Rows:\", data.duplicated().sum())\n",
    "\n",
    "explore_data(data)\n"
   ]
  },
  {
   "cell_type": "markdown",
   "id": "fb2afec8",
   "metadata": {},
   "source": [
    "Loading the dataset and exploring the dataset structure and features with functions like head, info, describe. Since there is an encoding issue while loading the data, using ISO-8859-1 encoder helps resolve the errors."
   ]
  },
  {
   "cell_type": "markdown",
   "id": "2af3bb18",
   "metadata": {},
   "source": [
    "DATA PREPROCESSING"
   ]
  },
  {
   "cell_type": "code",
   "execution_count": 4,
   "id": "ec97011c",
   "metadata": {},
   "outputs": [
    {
     "name": "stdout",
     "output_type": "stream",
     "text": [
      "\n",
      "Handling missing values...\n"
     ]
    }
   ],
   "source": [
    "print(\"\\nHandling missing values...\")\n",
    "data = data.dropna(subset=['CustomerID'])"
   ]
  },
  {
   "cell_type": "code",
   "execution_count": 5,
   "id": "27511271",
   "metadata": {},
   "outputs": [],
   "source": [
    "# Fill missing values in the Description column with \"Unknown\"\n",
    "data['Description'].fillna('Unknown', inplace=True)"
   ]
  },
  {
   "cell_type": "code",
   "execution_count": 6,
   "id": "2885ad49",
   "metadata": {},
   "outputs": [],
   "source": [
    "# Remove duplicates\n",
    "data = data.drop_duplicates()"
   ]
  },
  {
   "cell_type": "code",
   "execution_count": 7,
   "id": "cffa7140",
   "metadata": {},
   "outputs": [],
   "source": [
    "# Remove rows with negative Quantity and UnitPrice\n",
    "data = data[(data['Quantity'] > 0) & (data['UnitPrice'] > 0)]"
   ]
  },
  {
   "cell_type": "code",
   "execution_count": 8,
   "id": "3af87d19",
   "metadata": {},
   "outputs": [],
   "source": [
    "# Convert InvoiceDate to datetime format\n",
    "data['InvoiceDate'] = pd.to_datetime(data['InvoiceDate'])"
   ]
  },
  {
   "cell_type": "code",
   "execution_count": 9,
   "id": "146a3615",
   "metadata": {},
   "outputs": [],
   "source": [
    "# Remove outliers in Quantity and UnitPrice (filter out extreme negative and positive values)\n",
    "data = data[(data['Quantity'] > 0) & (data['UnitPrice'] > 0)]\n",
    "data = data[(data['Quantity'] < data['Quantity'].quantile(0.99)) & \n",
    "            (data['UnitPrice'] < data['UnitPrice'].quantile(0.99))]"
   ]
  },
  {
   "cell_type": "markdown",
   "id": "9fae0184",
   "metadata": {},
   "source": [
    "Checking for null and duplicate values with the function of isnull and duplicated respectively.\n",
    "Handling the dataset by checking the missing values and replacing it with mean. Dropping the duplicates and dummies Outlier detection"
   ]
  },
  {
   "cell_type": "code",
   "execution_count": 10,
   "id": "7a93f8c7",
   "metadata": {},
   "outputs": [
    {
     "name": "stdout",
     "output_type": "stream",
     "text": [
      "<class 'pandas.core.frame.DataFrame'>\n",
      "Int64Index: 383418 entries, 0 to 541908\n",
      "Data columns (total 8 columns):\n",
      " #   Column       Non-Null Count   Dtype         \n",
      "---  ------       --------------   -----         \n",
      " 0   InvoiceNo    383418 non-null  object        \n",
      " 1   StockCode    383418 non-null  object        \n",
      " 2   Description  383418 non-null  object        \n",
      " 3   Quantity     383418 non-null  int64         \n",
      " 4   InvoiceDate  383418 non-null  datetime64[ns]\n",
      " 5   UnitPrice    383418 non-null  float64       \n",
      " 6   CustomerID   383418 non-null  float64       \n",
      " 7   Country      383418 non-null  object        \n",
      "dtypes: datetime64[ns](1), float64(2), int64(1), object(4)\n",
      "memory usage: 26.3+ MB\n",
      "None\n",
      "InvoiceNo      0\n",
      "StockCode      0\n",
      "Description    0\n",
      "Quantity       0\n",
      "InvoiceDate    0\n",
      "UnitPrice      0\n",
      "CustomerID     0\n",
      "Country        0\n",
      "dtype: int64\n"
     ]
    }
   ],
   "source": [
    "# Verify cleaning steps\n",
    "print(data.info())\n",
    "print(data.isnull().sum())"
   ]
  },
  {
   "cell_type": "markdown",
   "id": "eb36ae8d",
   "metadata": {},
   "source": [
    "After cleaning the dataset, there are no missing values and some rows have been dropped. "
   ]
  },
  {
   "cell_type": "markdown",
   "id": "beaaa20b",
   "metadata": {},
   "source": [
    "Encoding the 'Country' column using one-hot encoding"
   ]
  },
  {
   "cell_type": "code",
   "execution_count": 11,
   "id": "4b9c2f65",
   "metadata": {},
   "outputs": [],
   "source": [
    "data = pd.get_dummies(data, columns=['Country'], drop_first=True)\n",
    "\n",
    "# Transform InvoiceNo and StockCode to string type if not already\n",
    "data['InvoiceNo'] = data['InvoiceNo'].astype(str)\n",
    "data['StockCode'] = data['StockCode'].astype(str)\n"
   ]
  },
  {
   "cell_type": "code",
   "execution_count": 12,
   "id": "b540f6ab",
   "metadata": {},
   "outputs": [
    {
     "name": "stdout",
     "output_type": "stream",
     "text": [
      "  InvoiceNo StockCode                          Description  Quantity  \\\n",
      "0    536365    85123A   WHITE HANGING HEART T-LIGHT HOLDER         6   \n",
      "1    536365     71053                  WHITE METAL LANTERN         6   \n",
      "2    536365    84406B       CREAM CUPID HEARTS COAT HANGER         8   \n",
      "3    536365    84029G  KNITTED UNION FLAG HOT WATER BOTTLE         6   \n",
      "4    536365    84029E       RED WOOLLY HOTTIE WHITE HEART.         6   \n",
      "\n",
      "          InvoiceDate  UnitPrice  CustomerID  Country_Austria  \\\n",
      "0 2010-12-01 08:26:00       2.55     17850.0                0   \n",
      "1 2010-12-01 08:26:00       3.39     17850.0                0   \n",
      "2 2010-12-01 08:26:00       2.75     17850.0                0   \n",
      "3 2010-12-01 08:26:00       3.39     17850.0                0   \n",
      "4 2010-12-01 08:26:00       3.39     17850.0                0   \n",
      "\n",
      "   Country_Bahrain  Country_Belgium  ...  Country_Switzerland  Country_USA  \\\n",
      "0                0                0  ...                    0            0   \n",
      "1                0                0  ...                    0            0   \n",
      "2                0                0  ...                    0            0   \n",
      "3                0                0  ...                    0            0   \n",
      "4                0                0  ...                    0            0   \n",
      "\n",
      "   Country_United Arab Emirates  Country_United Kingdom  Country_Unspecified  \\\n",
      "0                             0                       1                    0   \n",
      "1                             0                       1                    0   \n",
      "2                             0                       1                    0   \n",
      "3                             0                       1                    0   \n",
      "4                             0                       1                    0   \n",
      "\n",
      "   Year  Month  Day  Hour  TotalAmount  \n",
      "0  2010     12    1     8        15.30  \n",
      "1  2010     12    1     8        20.34  \n",
      "2  2010     12    1     8        22.00  \n",
      "3  2010     12    1     8        20.34  \n",
      "4  2010     12    1     8        20.34  \n",
      "\n",
      "[5 rows x 48 columns]\n"
     ]
    }
   ],
   "source": [
    "# Extract Year, Month, Day, and Hour from InvoiceDate\n",
    "data['Year'] = data['InvoiceDate'].dt.year\n",
    "data['Month'] = data['InvoiceDate'].dt.month\n",
    "data['Day'] = data['InvoiceDate'].dt.day\n",
    "data['Hour'] = data['InvoiceDate'].dt.hour\n",
    "\n",
    "# Create a TotalAmount feature\n",
    "data['TotalAmount'] = data['Quantity'] * data['UnitPrice']\n",
    "\n",
    "# Display the first few rows with new features\n",
    "print(data.head())"
   ]
  },
  {
   "cell_type": "markdown",
   "id": "327a6f86",
   "metadata": {},
   "source": [
    "FEATURE ENGINEERING"
   ]
  },
  {
   "cell_type": "code",
   "execution_count": 13,
   "id": "97d8e45f",
   "metadata": {},
   "outputs": [
    {
     "data": {
      "image/png": "[encoded data removed]",
      "text/plain": [
       "<Figure size 720x432 with 1 Axes>"
      ]
     },
     "metadata": {
      "needs_background": "light"
     },
     "output_type": "display_data"
    },
    {
     "data": {
      "image/png": "[encoded data removed]",
      "text/plain": [
       "<Figure size 864x432 with 1 Axes>"
      ]
     },
     "metadata": {
      "needs_background": "light"
     },
     "output_type": "display_data"
    }
   ],
   "source": [
    "# Plot Distribution of Total Transaction Amount\n",
    "plt.figure(figsize=(10, 6))\n",
    "plt.hist(data['TotalAmount'], bins=50, edgecolor='k')\n",
    "plt.title('Distribution of Total Transaction Amount')\n",
    "plt.xlabel('Total Amount ($)')\n",
    "plt.ylabel('Frequency')\n",
    "plt.xlim(0, 500)  # Limit x-axis to remove extreme outliers\n",
    "plt.grid(axis='y')\n",
    "plt.show()\n",
    "\n",
    "# Plot the Number of Transactions by Country\n",
    "plt.figure(figsize=(12, 6))\n",
    "data['Country_United Kingdom'].value_counts().plot(kind='bar')\n",
    "plt.title('Number of Transactions by Country')\n",
    "plt.xlabel('Country')\n",
    "plt.ylabel('Number of Transactions')\n",
    "plt.xticks(rotation=90)\n",
    "plt.show()"
   ]
  },
  {
   "cell_type": "code",
   "execution_count": 14,
   "id": "ae307869",
   "metadata": {},
   "outputs": [
    {
     "data": {
      "image/png": "[encoded data removed]",
      "text/plain": [
       "<Figure size 576x432 with 2 Axes>"
      ]
     },
     "metadata": {
      "needs_background": "light"
     },
     "output_type": "display_data"
    },
    {
     "name": "stdout",
     "output_type": "stream",
     "text": [
      "             Quantity  UnitPrice  TotalAmount\n",
      "Quantity     1.000000  -0.260169     0.622836\n",
      "UnitPrice   -0.260169   1.000000     0.195341\n",
      "TotalAmount  0.622836   0.195341     1.000000\n"
     ]
    }
   ],
   "source": [
    "# Correlation Matrix for Numerical Features\n",
    "correlation_matrix = data[['Quantity', 'UnitPrice', 'TotalAmount']].corr()\n",
    "\n",
    "# Plot Correlation Matrix as a Heatmap\n",
    "plt.figure(figsize=(8, 6))\n",
    "plt.imshow(correlation_matrix, cmap='coolwarm', interpolation='none')\n",
    "plt.colorbar(label='Correlation Coefficient')\n",
    "plt.xticks(range(len(correlation_matrix.columns)), correlation_matrix.columns, rotation=45)\n",
    "plt.yticks(range(len(correlation_matrix.columns)), correlation_matrix.columns)\n",
    "plt.title('Correlation Matrix')\n",
    "plt.show()\n",
    "\n",
    "# Display Correlation Matrix Values\n",
    "print(correlation_matrix)"
   ]
  }
 ],
 "metadata": {
  "kernelspec": {
   "display_name": "Python 3 (ipykernel)",
   "language": "python",
   "name": "python3"
  },
  "language_info": {
   "codemirror_mode": {
    "name": "ipython",
    "version": 3
   },
   "file_extension": ".py",
   "mimetype": "text/x-python",
   "name": "python",
   "nbconvert_exporter": "python",
   "pygments_lexer": "ipython3",
   "version": "3.9.13"
  }
 },
 "nbformat": 4,
 "nbformat_minor": 5
}
